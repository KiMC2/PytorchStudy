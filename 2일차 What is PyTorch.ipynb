{
 "cells": [
  {
   "cell_type": "code",
   "execution_count": 24,
   "metadata": {},
   "outputs": [],
   "source": [
    "import torch\n",
    "import numpy as np"
   ]
  },
  {
   "cell_type": "code",
   "execution_count": 25,
   "metadata": {},
   "outputs": [],
   "source": [
    "x = torch.rand(5, 3)\n",
    "y = torch.rand(5, 3)"
   ]
  },
  {
   "cell_type": "code",
   "execution_count": 26,
   "metadata": {},
   "outputs": [
    {
     "data": {
      "text/plain": [
       "tensor([[ 0.7458,  1.4097,  1.0100],\n",
       "        [ 1.0252,  0.6327,  0.8803],\n",
       "        [ 1.3238,  0.6725,  1.2268],\n",
       "        [ 1.0162,  1.4206,  0.7989],\n",
       "        [ 0.9007,  0.9021,  1.3954]])"
      ]
     },
     "execution_count": 26,
     "metadata": {},
     "output_type": "execute_result"
    }
   ],
   "source": [
    "x + y"
   ]
  },
  {
   "cell_type": "code",
   "execution_count": 27,
   "metadata": {},
   "outputs": [
    {
     "name": "stdout",
     "output_type": "stream",
     "text": [
      "tensor([[ 0.7458,  1.4097,  1.0100],\n",
      "        [ 1.0252,  0.6327,  0.8803],\n",
      "        [ 1.3238,  0.6725,  1.2268],\n",
      "        [ 1.0162,  1.4206,  0.7989],\n",
      "        [ 0.9007,  0.9021,  1.3954]])\n"
     ]
    }
   ],
   "source": [
    "result = torch.add(x, y)\n",
    "print(result)"
   ]
  },
  {
   "cell_type": "code",
   "execution_count": 28,
   "metadata": {},
   "outputs": [
    {
     "data": {
      "text/plain": [
       "tensor([[ 0.7458,  1.4097,  1.0100],\n",
       "        [ 1.0252,  0.6327,  0.8803],\n",
       "        [ 1.3238,  0.6725,  1.2268],\n",
       "        [ 1.0162,  1.4206,  0.7989],\n",
       "        [ 0.9007,  0.9021,  1.3954]])"
      ]
     },
     "execution_count": 28,
     "metadata": {},
     "output_type": "execute_result"
    }
   ],
   "source": [
    "result = torch.empty(5, 3)\n",
    "torch.add(x, y, out=result)"
   ]
  },
  {
   "cell_type": "code",
   "execution_count": 29,
   "metadata": {},
   "outputs": [
    {
     "name": "stdout",
     "output_type": "stream",
     "text": [
      "y =  tensor([[ 0.0566,  0.6377,  0.7248],\n",
      "        [ 0.8510,  0.5347,  0.8384],\n",
      "        [ 0.5616,  0.5559,  0.3589],\n",
      "        [ 0.2892,  0.5726,  0.1048],\n",
      "        [ 0.5632,  0.2283,  0.7200]])\n",
      "tensor([[ 5.0566,  5.6377,  5.7248],\n",
      "        [ 5.8510,  5.5347,  5.8384],\n",
      "        [ 5.5616,  5.5559,  5.3589],\n",
      "        [ 5.2892,  5.5726,  5.1048],\n",
      "        [ 5.5632,  5.2283,  5.7200]])\n",
      "y =  tensor([[ 0.0566,  0.6377,  0.7248],\n",
      "        [ 0.8510,  0.5347,  0.8384],\n",
      "        [ 0.5616,  0.5559,  0.3589],\n",
      "        [ 0.2892,  0.5726,  0.1048],\n",
      "        [ 0.5632,  0.2283,  0.7200]])\n",
      "tensor([[ 0.7458,  1.4097,  1.0100],\n",
      "        [ 1.0252,  0.6327,  0.8803],\n",
      "        [ 1.3238,  0.6725,  1.2268],\n",
      "        [ 1.0162,  1.4206,  0.7989],\n",
      "        [ 0.9007,  0.9021,  1.3954]])\n",
      "y =  tensor([[ 0.0566,  0.6377,  0.7248],\n",
      "        [ 0.8510,  0.5347,  0.8384],\n",
      "        [ 0.5616,  0.5559,  0.3589],\n",
      "        [ 0.2892,  0.5726,  0.1048],\n",
      "        [ 0.5632,  0.2283,  0.7200]])\n",
      "tensor([[ 5.0566,  5.6377,  5.7248],\n",
      "        [ 5.8510,  5.5347,  5.8384],\n",
      "        [ 5.5616,  5.5559,  5.3589],\n",
      "        [ 5.2892,  5.5726,  5.1048],\n",
      "        [ 5.5632,  5.2283,  5.7200]])\n",
      "y =  tensor([[ 5.0566,  5.6377,  5.7248],\n",
      "        [ 5.8510,  5.5347,  5.8384],\n",
      "        [ 5.5616,  5.5559,  5.3589],\n",
      "        [ 5.2892,  5.5726,  5.1048],\n",
      "        [ 5.5632,  5.2283,  5.7200]])\n"
     ]
    }
   ],
   "source": [
    "print('y = ', y)\n",
    "print(y.add(5))\n",
    "print('y = ', y)\n",
    "print(y.add(x))\n",
    "print('y = ', y)\n",
    "print(y.add_(5)) # _가 붙는 경우는 y를 변경함\n",
    "print('y = ', y)"
   ]
  },
  {
   "cell_type": "code",
   "execution_count": 30,
   "metadata": {},
   "outputs": [
    {
     "name": "stdout",
     "output_type": "stream",
     "text": [
      "tensor([ 0.7720,  0.0980,  0.1166,  0.8480,  0.6738])\n"
     ]
    }
   ],
   "source": [
    "# Numpy처럼 index 접근이 가능하다\n",
    "print(x[:, 1])"
   ]
  },
  {
   "cell_type": "code",
   "execution_count": 31,
   "metadata": {},
   "outputs": [
    {
     "name": "stdout",
     "output_type": "stream",
     "text": [
      "torch.Size([4, 4]) torch.Size([16]) torch.Size([2, 8])\n"
     ]
    }
   ],
   "source": [
    "# resize나 reshape는 view로 한다.\n",
    "x = torch.rand(4, 4)\n",
    "y = x.view(16)\n",
    "z = x.view(-1, 8)\n",
    "print(x.size(), y.size(), z.size())"
   ]
  },
  {
   "cell_type": "code",
   "execution_count": 32,
   "metadata": {},
   "outputs": [
    {
     "name": "stdout",
     "output_type": "stream",
     "text": [
      "tensor([ 0.5556])\n",
      "0.5555672645568848\n"
     ]
    }
   ],
   "source": [
    "x = torch.randn(1)\n",
    "print(x)\n",
    "print(x.item())"
   ]
  },
  {
   "cell_type": "code",
   "execution_count": 37,
   "metadata": {},
   "outputs": [
    {
     "name": "stdout",
     "output_type": "stream",
     "text": [
      "tensor([ 1.,  1.,  1.,  1.,  1.])\n",
      "[ 1.  1.  1.  1.  1.]\n",
      "==============================\n",
      "tensor([ 2.,  2.,  2.,  2.,  2.])\n",
      "[ 2.  2.  2.  2.  2.]\n"
     ]
    }
   ],
   "source": [
    "# Torch To Numpy\n",
    "a = torch.ones(5)\n",
    "b = a.numpy()\n",
    "print(a)\n",
    "print(b)\n",
    "\n",
    "# Numpy 와 torch는 같은 메모리를 공유하기 때문에 하나를 변경하면 다른 것도 변경된다.\n",
    "a.add_(1)\n",
    "print(\"==============================\")\n",
    "\n",
    "print(a)\n",
    "print(b)\n"
   ]
  },
  {
   "cell_type": "code",
   "execution_count": 39,
   "metadata": {},
   "outputs": [
    {
     "name": "stdout",
     "output_type": "stream",
     "text": [
      "[ 1.  1.  1.  1.  1.]\n",
      "tensor([ 1.,  1.,  1.,  1.,  1.], dtype=torch.float64)\n",
      "==============================\n",
      "[ 2.  2.  2.  2.  2.]\n",
      "tensor([ 2.,  2.,  2.,  2.,  2.], dtype=torch.float64)\n"
     ]
    }
   ],
   "source": [
    "# Numpy To Torch\n",
    "a = np.ones(5)\n",
    "b = torch.from_numpy(a)\n",
    "print(a)\n",
    "print(b)\n",
    "\n",
    "# CharTensor를 제외한 CPU의 모든 Tensors는 NumPy로 변환하고 지원합니다.\n",
    "np.add(a, 1, out=a)\n",
    "\n",
    "print(\"==============================\")\n",
    "\n",
    "print(a)\n",
    "print(b)\n"
   ]
  },
  {
   "cell_type": "code",
   "execution_count": 41,
   "metadata": {},
   "outputs": [
    {
     "ename": "RuntimeError",
     "evalue": "Error attempting to use dtype torch.float32 with layout torch.strided and device type CUDA.  Torch not compiled with CUDA enabled.\n",
     "output_type": "error",
     "traceback": [
      "\u001b[0;31m---------------------------------------------------------------------------\u001b[0m",
      "\u001b[0;31mRuntimeError\u001b[0m                              Traceback (most recent call last)",
      "\u001b[0;32m<ipython-input-41-48f65a0f7142>\u001b[0m in \u001b[0;36m<module>\u001b[0;34m()\u001b[0m\n\u001b[1;32m      3\u001b[0m     \u001b[0mdevice\u001b[0m \u001b[0;34m=\u001b[0m \u001b[0mtorch\u001b[0m\u001b[0;34m.\u001b[0m\u001b[0mdevice\u001b[0m\u001b[0;34m(\u001b[0m\u001b[0;34m\"cuda\"\u001b[0m\u001b[0;34m)\u001b[0m\u001b[0;34m\u001b[0m\u001b[0m\n\u001b[1;32m      4\u001b[0m     \u001b[0mx\u001b[0m \u001b[0;34m=\u001b[0m \u001b[0mtorch\u001b[0m\u001b[0;34m.\u001b[0m\u001b[0mrand\u001b[0m\u001b[0;34m(\u001b[0m\u001b[0;36m5\u001b[0m\u001b[0;34m,\u001b[0m \u001b[0;36m3\u001b[0m\u001b[0;34m)\u001b[0m\u001b[0;34m\u001b[0m\u001b[0m\n\u001b[0;32m----> 5\u001b[0;31m     \u001b[0my\u001b[0m \u001b[0;34m=\u001b[0m \u001b[0mtorch\u001b[0m\u001b[0;34m.\u001b[0m\u001b[0mrand\u001b[0m\u001b[0;34m(\u001b[0m\u001b[0;36m5\u001b[0m\u001b[0;34m,\u001b[0m \u001b[0;36m3\u001b[0m\u001b[0;34m,\u001b[0m \u001b[0mdevice\u001b[0m\u001b[0;34m=\u001b[0m\u001b[0mdevice\u001b[0m\u001b[0;34m)\u001b[0m \u001b[0;31m# 바로 옮기기\u001b[0m\u001b[0;34m\u001b[0m\u001b[0m\n\u001b[0m\u001b[1;32m      6\u001b[0m     \u001b[0mx\u001b[0m\u001b[0;34m.\u001b[0m\u001b[0mto\u001b[0m\u001b[0;34m(\u001b[0m\u001b[0mdevice\u001b[0m\u001b[0;34m)\u001b[0m \u001b[0;31m# GPU로 옮기기\u001b[0m\u001b[0;34m\u001b[0m\u001b[0m\n\u001b[1;32m      7\u001b[0m \u001b[0;34m\u001b[0m\u001b[0m\n",
      "\u001b[0;31mRuntimeError\u001b[0m: Error attempting to use dtype torch.float32 with layout torch.strided and device type CUDA.  Torch not compiled with CUDA enabled.\n"
     ]
    }
   ],
   "source": [
    "# CUDA Tensor\n",
    "if torch.cuda.is_available():\n",
    "    device = torch.device(\"cuda\")\n",
    "    x = torch.rand(5, 3)\n",
    "    y = torch.rand(5, 3, device=device) # 바로 옮기기\n",
    "    x.to(device) # GPU로 옮기기\n",
    "    \n",
    "    z = x + y\n",
    "    \n",
    "    print(z)\n",
    "    print(z.to(\"cpu\", torch.double))\n",
    "    "
   ]
  },
  {
   "cell_type": "markdown",
   "metadata": {},
   "source": []
  },
  {
   "cell_type": "code",
   "execution_count": null,
   "metadata": {},
   "outputs": [],
   "source": []
  }
 ],
 "metadata": {
  "kernelspec": {
   "display_name": "Python 3",
   "language": "python",
   "name": "python3"
  },
  "language_info": {
   "codemirror_mode": {
    "name": "ipython",
    "version": 3
   },
   "file_extension": ".py",
   "mimetype": "text/x-python",
   "name": "python",
   "nbconvert_exporter": "python",
   "pygments_lexer": "ipython3",
   "version": "3.6.2"
  }
 },
 "nbformat": 4,
 "nbformat_minor": 2
}
